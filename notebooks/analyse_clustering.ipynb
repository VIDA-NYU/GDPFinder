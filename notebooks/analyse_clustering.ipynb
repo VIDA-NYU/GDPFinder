{
 "cells": [
  {
   "cell_type": "code",
   "execution_count": null,
   "metadata": {},
   "outputs": [],
   "source": [
    "import numpy as np\n",
    "import matplotlib.pyplot as plt\n",
    "from sklearn.cluster import KMeans\n",
    "import torch\n",
    "import torch.nn as nn\n",
    "\n",
    "import os\n",
    "import sys\n",
    "\n",
    "sys.path.append(\"../scripts\")\n",
    "from data import get_sample_patches_dataset, get_filenames\n",
    "from model import SmallAutoEncoder, AutoEncoder, DEC"
   ]
  },
  {
   "cell_type": "code",
   "execution_count": null,
   "metadata": {},
   "outputs": [],
   "source": [
    "device = torch.device(\"cuda\" if torch.cuda.is_available() else \"cpu\")"
   ]
  },
  {
   "cell_type": "code",
   "execution_count": null,
   "metadata": {},
   "outputs": [],
   "source": [
    "# load data\n",
    "filenames = get_filenames()\n",
    "dataset = get_sample_patches_dataset(filenames=filenames, resize=(28, 28))\n",
    "dl = torch.utils.data.DataLoader(dataset, batch_size=256)"
   ]
  },
  {
   "cell_type": "code",
   "execution_count": null,
   "metadata": {},
   "outputs": [],
   "source": [
    "# load only resnet and cluster with that\n",
    "model = {}\n",
    "model['autoencoder'] = AutoEncoder(64)\n",
    "model['autoencoder'].load_state_dict(torch.load(\"../models/AE_small/model.pt\"))\n",
    "model['autoencoder'].eval()\n",
    "model['resnet'] = model['autoencoder'].encoder\n",
    "model['resnet'] = model['resnet'].child()[-3:]\n",
    "model['dec'] = DEC(10, 64, model['autoencoder'].encoder)\n",
    "model['dec'].load_state_dict(torch.load(\"../models/DEC_small/model.pt\"))\n",
    "model['dec'].eval()"
   ]
  },
  {
   "cell_type": "code",
   "execution_count": null,
   "metadata": {},
   "outputs": [],
   "source": [
    "embeddings = {}\n",
    "embeddings[\"resnet\"] = []\n",
    "for batch in dl:\n",
    "    embeddings[\"resnet\"].append(model[\"resnet\"](batch).detach().cpu().numpy().reshape(256, -1))\n",
    "    embeddings[\"autoencoder\"].append(model[\"autoencoder\"](batch)[0].detach().cpu().numpy().reshape(256, -1))\n",
    "    embeddings[\"dec\"].append(model[\"dec\"](batch).max(1)[1].detach().cpu().numpy().reshape(256, -1))\n",
    "embeddings[\"resnet\"] = np.concatenate(embeddings[\"resnet\"])\n",
    "embeddings[\"autoencoder\"] = np.concatenate(embeddings[\"autoencoder\"])\n",
    "embeddings[\"dec\"] = np.concatenate(embeddings[\"dec\"])\n",
    "\n",
    "\n",
    "clusters = {}\n",
    "cls = KMeans(10, n_init=20)\n",
    "clusters[\"resnet\"] = cls.fit_predict(embeddings[\"resnet\"]).labels_\n",
    "clusters[\"autoencoder\"] = cls.fit_predict(embeddings[\"autoencoder\"]).labels_\n",
    "clusters[\"dec\"] = embeddings[\"dec\"]"
   ]
  },
  {
   "cell_type": "code",
   "execution_count": null,
   "metadata": {},
   "outputs": [],
   "source": [
    "name = \"resnet\"\n",
    "for i in range(10):\n",
    "    samples = clusters[name] == i\n",
    "    random_samples = np.random.choice(np.where(samples)[0], 10)\n",
    "    fig, ax = plt.subplots(3, 4, figsize=(10, 8))\n",
    "    for j, idx in enumerate(random_samples):\n",
    "        ax[j].imshow(dataset[idx][0].permute(1, 2, 0))\n",
    "        ax[j].axis(\"off\")\n",
    "    plt.show()"
   ]
  },
  {
   "cell_type": "code",
   "execution_count": null,
   "metadata": {},
   "outputs": [],
   "source": [
    "name = \"autoencoder\"\n",
    "for i in range(10):\n",
    "    samples = clusters[name] == i\n",
    "    random_samples = np.random.choice(np.where(samples)[0], 10)\n",
    "    fig, ax = plt.subplots(3, 4, figsize=(10, 8))\n",
    "    for j, idx in enumerate(random_samples):\n",
    "        ax[j].imshow(dataset[idx][0].permute(1, 2, 0))\n",
    "        ax[j].axis(\"off\")\n",
    "    plt.show()"
   ]
  },
  {
   "cell_type": "code",
   "execution_count": null,
   "metadata": {},
   "outputs": [],
   "source": [
    "name = \"dec\"\n",
    "for i in range(10):\n",
    "    samples = clusters[name] == i\n",
    "    random_samples = np.random.choice(np.where(samples)[0], 10)\n",
    "    fig, ax = plt.subplots(3, 4, figsize=(10, 8))\n",
    "    for j, idx in enumerate(random_samples):\n",
    "        ax[j].imshow(dataset[idx][0].permute(1, 2, 0))\n",
    "        ax[j].axis(\"off\")\n",
    "    plt.show()"
   ]
  },
  {
   "cell_type": "code",
   "execution_count": null,
   "metadata": {},
   "outputs": [],
   "source": [
    "# load only autoencoder and cluster with that"
   ]
  }
 ],
 "metadata": {
  "language_info": {
   "name": "python"
  },
  "orig_nbformat": 4
 },
 "nbformat": 4,
 "nbformat_minor": 2
}
