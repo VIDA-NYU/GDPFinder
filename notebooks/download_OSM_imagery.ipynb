{
 "cells": [
  {
   "cell_type": "code",
   "execution_count": 1,
   "metadata": {},
   "outputs": [
    {
     "name": "stdout",
     "output_type": "stream",
     "text": [
      "No satellite imagery elements found in the response.\n"
     ]
    }
   ],
   "source": [
    "import requests\n",
    "import geopandas as gpd\n",
    "import os\n",
    "\n",
    "# Path to the shapefile\n",
    "shapefile_path = \"../data/city_boundaries/Chicago\"\n",
    "\n",
    "# Read the shapefile\n",
    "shapefile = gpd.read_file(shapefile_path)\n",
    "\n",
    "# Extract the bounding box coordinates\n",
    "bbox = shapefile.total_bounds\n",
    "\n",
    "# Construct the API request URL\n",
    "api_url = \"https://overpass-api.de/api/interpreter\"  # OSM Overpass API endpoint\n",
    "query = f\"[out:json];(node['image'='satellite']({','.join(str(coord) for coord in bbox)});way['image'='satellite']({','.join(str(coord) for coord in bbox)});relation['image'='satellite']({','.join(str(coord) for coord in bbox)}););out body;>;out skel qt;\"\n",
    "\n",
    "# Send the API request\n",
    "response = requests.get(api_url, params={\"data\": query})\n",
    "\n",
    "# Check if the request was successful\n",
    "if response.status_code == 200:\n",
    "    # Process the response data\n",
    "    response_data = response.json()\n",
    "    \n",
    "    # Check if there are elements in the response\n",
    "    if \"elements\" in response_data and len(response_data[\"elements\"]) > 0:\n",
    "        # Extract and save the satellite imagery from the response\n",
    "        for element in response_data[\"elements\"]:\n",
    "            if element[\"type\"] == \"node\" or element[\"type\"] == \"way\" or element[\"type\"] == \"relation\":\n",
    "                tags = element.get(\"tags\", {})\n",
    "                image_url = tags.get(\"image\")\n",
    "                if image_url:\n",
    "                    # Download the image\n",
    "                    image_response = requests.get(image_url)\n",
    "                    if image_response.status_code == 200:\n",
    "                        # Save the image with a unique filename\n",
    "                        filename = os.path.basename(image_url)\n",
    "                        save_path = os.path.join(\"output_folder\", filename)\n",
    "                        with open(save_path, \"wb\") as file:\n",
    "                            file.write(image_response.content)\n",
    "                        print(f\"Saved image: {save_path}\")\n",
    "                    else:\n",
    "                        print(f\"Failed to download image: {image_url}\")\n",
    "    else:\n",
    "        print(\"No satellite imagery elements found in the response.\")\n",
    "else:\n",
    "    # Handle the request failure\n",
    "    print(\"API request failed with status code:\", response.status_code)"
   ]
  }
 ],
 "metadata": {
  "kernelspec": {
   "display_name": "ethan",
   "language": "python",
   "name": "python3"
  },
  "language_info": {
   "codemirror_mode": {
    "name": "ipython",
    "version": 3
   },
   "file_extension": ".py",
   "mimetype": "text/x-python",
   "name": "python",
   "nbconvert_exporter": "python",
   "pygments_lexer": "ipython3",
   "version": "3.11.3"
  },
  "orig_nbformat": 4
 },
 "nbformat": 4,
 "nbformat_minor": 2
}
