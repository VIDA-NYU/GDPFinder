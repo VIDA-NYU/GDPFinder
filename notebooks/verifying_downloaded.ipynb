{
 "cells": [
  {
   "cell_type": "code",
   "execution_count": 3,
   "metadata": {},
   "outputs": [],
   "source": [
    "import os\n",
    "import matplotlib.pyplot as plt\n",
    "import geopandas as gpd"
   ]
  },
  {
   "cell_type": "code",
   "execution_count": 4,
   "metadata": {},
   "outputs": [],
   "source": [
    "scenes_files = [f for f in os.listdir(\"/vida/work/GDPFinder/GDPFinder/data/scenes_metadata\") if f[-7:] == \"geojson\"]\n",
    "cities_shp = gpd.read_file(\"/vida/work/GDPFinder/GDPFinder/data/CityBoundaries.shp\")\n",
    "cities_shp = cities_shp.to_crs(\"EPSG:4326\")\n",
    "cities_shp[\"city_name\"] = cities_shp.NAME.apply(lambda x : x.lower().replace(\" \", \"_\").replace(\"-\", \"_\"))\n",
    "cities_shp[\"state_name\"] = cities_shp.ST.apply(lambda x : x.lower())"
   ]
  },
  {
   "cell_type": "code",
   "execution_count": 6,
   "metadata": {},
   "outputs": [
    {
     "data": {
      "text/plain": [
       "['detroit_mi_last_scenes.geojson',\n",
       " 'new_york_ny_last_scenes.geojson',\n",
       " 'los_angeles_ca_last_scenes.geojson',\n",
       " 'chicago_il_last_scenes.geojson',\n",
       " 'oakland_ca_last_scenes.geojson',\n",
       " 'dallas_tx_last_scenes.geojson',\n",
       " 'washington_dc_last_scenes.geojson',\n",
       " 'houston_tx_last_scenes.geojson',\n",
       " 'boston_ma_last_scenes.geojson',\n",
       " 'seattle_wa_last_scenes.geojson',\n",
       " 'philadelphia_pa_last_scenes.geojson',\n",
       " 'atlanta_ga_last_scenes.geojson',\n",
       " 'san_jose_ca_last_scenes.geojson',\n",
       " 'miami_fl_last_scenes.geojson',\n",
       " 'phoenix_az_last_scenes.geojson',\n",
       " 'minneapolis_mn_last_scenes.geojson',\n",
       " 'san_diego_ca_last_scenes.geojson',\n",
       " 'aurora_co_last_scenes.geojson',\n",
       " 'baltimore_md_last_scenes.geojson',\n",
       " 'riverside_ca_last_scenes.geojson',\n",
       " 'charlotte_nc_last_scenes.geojson',\n",
       " 'austin_tx_last_scenes.geojson',\n",
       " 'portland_or_last_scenes.geojson',\n",
       " 'tampa_fl_last_scenes.geojson',\n",
       " 'st._louis_mo_last_scenes.geojson',\n",
       " 'cincinnati_oh_last_scenes.geojson',\n",
       " 'pittsburgh_pa_last_scenes.geojson',\n",
       " 'orlando_fl_last_scenes.geojson',\n",
       " 'nashville_tn_last_scenes.geojson',\n",
       " 'indianapolis_in_last_scenes.geojson',\n",
       " 'sacramento_ca_last_scenes.geojson',\n",
       " 'kansas_city_mo_last_scenes.geojson',\n",
       " 'columbus_oh_last_scenes.geojson',\n",
       " 'san_antonio_tx_last_scenes.geojson',\n",
       " 'cleveland_oh_last_scenes.geojson',\n",
       " 'las_vegas_nv_last_scenes.geojson',\n",
       " 'salt_lake_city_ut_last_scenes.geojson',\n",
       " 'milwaukee_wi_last_scenes.geojson',\n",
       " 'raleigh_nc_last_scenes.geojson',\n",
       " 'hartford_ct_last_scenes.geojson',\n",
       " 'virginia_beach_va_last_scenes.geojson',\n",
       " 'jacksonville_fl_last_scenes.geojson',\n",
       " 'richmond_va_last_scenes.geojson',\n",
       " 'warwick_ri_last_scenes.geojson',\n",
       " 'oklahoma_city_ok_last_scenes.geojson',\n",
       " 'stamford_ct_last_scenes.geojson',\n",
       " 'memphis_tn_last_scenes.geojson',\n",
       " 'buffalo_ny_last_scenes.geojson',\n",
       " 'new_orleans_la_last_scenes.geojson']"
      ]
     },
     "execution_count": 6,
     "metadata": {},
     "output_type": "execute_result"
    }
   ],
   "source": [
    "scenes_files"
   ]
  },
  {
   "cell_type": "code",
   "execution_count": null,
   "metadata": {},
   "outputs": [],
   "source": []
  }
 ],
 "metadata": {
  "kernelspec": {
   "display_name": "urban_gdp",
   "language": "python",
   "name": "python3"
  },
  "language_info": {
   "codemirror_mode": {
    "name": "ipython",
    "version": 3
   },
   "file_extension": ".py",
   "mimetype": "text/x-python",
   "name": "python",
   "nbconvert_exporter": "python",
   "pygments_lexer": "ipython3",
   "version": "3.9.16"
  },
  "orig_nbformat": 4
 },
 "nbformat": 4,
 "nbformat_minor": 2
}
