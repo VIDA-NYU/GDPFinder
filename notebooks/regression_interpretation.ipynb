{
 "cells": [
  {
   "cell_type": "code",
   "execution_count": null,
   "metadata": {},
   "outputs": [],
   "source": [
    "import pandas as pd\n",
    "import numpy as  np\n",
    "import torch\n",
    "import matplotlib.pyplot as plt\n",
    "import joblib\n",
    "import sys\n",
    "sys.path.append('../scripts')\n",
    "\n",
    "import models\n",
    "import data\n",
    "import utils\n",
    "import prediction_census_blocks"
   ]
  },
  {
   "cell_type": "code",
   "execution_count": null,
   "metadata": {},
   "outputs": [],
   "source": [
    "dl_loader, _, _ = data.generate_dataloaders(patch_size = 300)\n",
    "dims = [2048, 1024, 512, 256, 64]\n",
    "model = models.AutoEncoderResnetExtractor(dims)\n",
    "# if using kmeans\n",
    "model.load_state_dict(torch.load(f\"../data/AE_extractor_resnet50_{dims}/model.pt\"))\n",
    "kmeans = joblib.load(f\"../data/DEC_extractor_resnet50_{dims}/kmeans_{n_clusters}_clusters.pkl\")\n",
    "model = models.DEC(\n",
    "    n_clusters = k,\n",
    "    embedding_dim = dims[-1], \n",
    "    encoder = model.encoder,\n",
    "    cluster_centers = torch.tensor(kmeans.cluster_centers_)\n",
    ")\n",
    "# if using dec\n",
    "model.load_state_dict(torch.load(\"../models/DEC_[2048, 1024, 512, 256, {latent_dim}]_{k}/model.pt\n",
    "model.to(device);\n",
    "\n",
    "clusters = utils.get_clusters(dl_loader, model)"
   ]
  },
  {
   "cell_type": "code",
   "execution_count": null,
   "metadata": {},
   "outputs": [],
   "source": [
    "def visualize_cluster_samples(k, clusters, n_samples = 9):\n",
    "    ncols = 5\n",
    "    nrows = k // 5 + (k % 5 > 0)\n",
    "    fig, axs = plt.subplots(nrows = nrows, ncols = ncols, figsize = (ncols * 4, nrows * 4))\n",
    "    axs = axs.flat\n",
    "    [ax.set_axis_off() for ax in axs]\n",
    "\n",
    "    for i in range(k):\n",
    "        axs[i].set_title(f\"Samples of cluster {i}\")\n",
    "        samples = clusters == i\n",
    "        if samples.sum() == 0:\n",
    "            continue\n",
    "        \n",
    "        random_sample = np.random.choice(np.where(samples)[0], min(n_samples, samples.sum()))\n",
    "        samples_per_row = int(np.sqrt(n_samples))\n",
    "        img = torch.zeros((3, 224 * samples_per_row, 224 *samples_per_row))\n",
    "        for j, idx in enumerate(random_sample):\n",
    "            img[:, (j // samples_per_row) * 224: (j // samples_per_row + 1) * 224, (j % samples_per_row) * 224: (j % samples_per_row + 1) * 224] = dataset[idx]\n",
    "\n",
    "        plot_sample(img, axs[i])\n",
    "    plt.suptitle(f\"Samples with k = {k}\")\n"
   ]
  },
  {
   "cell_type": "code",
   "execution_count": null,
   "metadata": {},
   "outputs": [],
   "source": [
    "#load test dataframe\n",
    "blocks_test = pd.read_pickle(\"../models/DEC_[2048, 1024, 512, 256, {latent_dim}]_{k}/model.pt\")\n",
    "# compute features\n",
    "\n",
    "# set model\n",
    "clf = joblib.load()\n",
    "\n"
   ]
  }
 ],
 "metadata": {
  "language_info": {
   "name": "python"
  },
  "orig_nbformat": 4
 },
 "nbformat": 4,
 "nbformat_minor": 2
}
